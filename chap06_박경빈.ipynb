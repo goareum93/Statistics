{
  "nbformat": 4,
  "nbformat_minor": 0,
  "metadata": {
    "kernelspec": {
      "display_name": "Python 3",
      "language": "python",
      "name": "python3"
    },
    "language_info": {
      "codemirror_mode": {
        "name": "ipython",
        "version": 3
      },
      "file_extension": ".py",
      "mimetype": "text/x-python",
      "name": "python",
      "nbconvert_exporter": "python",
      "pygments_lexer": "ipython3",
      "version": "3.8.5"
    },
    "toc": {
      "nav_menu": {},
      "number_sections": true,
      "sideBar": true,
      "skip_h1_title": false,
      "toc_cell": false,
      "toc_position": {},
      "toc_section_display": "block",
      "toc_window_display": false
    },
    "colab": {
      "name": "chap06 발표.ipynb",
      "provenance": [],
      "collapsed_sections": [
        "acBUPfw_jDc_",
        "cpdy9kwrjDdB"
      ]
    }
  },
  "cells": [
    {
      "cell_type": "markdown",
      "metadata": {
        "id": "C6K3fNUGjDcr"
      },
      "source": [
        "# 대표적인 이산형 확률분포"
      ]
    },
    {
      "cell_type": "markdown",
      "metadata": {
        "id": "_sMYVsFQjDct"
      },
      "source": [
        "추측통계 : 한정된 표본으로부터 모집단의 평균이나 분산 등의 지표를 추정하는 것\n",
        "\n",
        " - 비모수적 기법 : 모집단의 확률 분포에 아무런 가정을 하지 않는 것\n",
        " - 모수적 기법 : 모집단의 확률 분포가 '어떠한 형태를 지닐 것이다.'라고 가정하고 확률분포의 기댓값이나 분산을 결정하는 파라미터를 추측하는 방법\n",
        "  --> 모수적 기법은 추정이 간단하고 분석이 쉬운 모형을 만들 수 있다.\n",
        "  \n",
        " "
      ]
    },
    {
      "cell_type": "code",
      "metadata": {
        "ExecuteTime": {
          "end_time": "2018-08-11T04:29:52.526093Z",
          "start_time": "2018-08-11T04:29:52.243215Z"
        },
        "id": "nHoKiLSGjDcv"
      },
      "source": [
        "# scipy 라이브러리\n",
        "# 통계 계산을 위한 여러 도구를 가지고 있는 라이브러리\n",
        "\n",
        "\n",
        "import numpy as np\n",
        "import matplotlib.pyplot as plt\n",
        "from scipy import stats\n",
        "\n",
        "%precision 3\n",
        "%matplotlib inline"
      ],
      "execution_count": 2,
      "outputs": []
    },
    {
      "cell_type": "markdown",
      "metadata": {
        "id": "fqQ9wzNSjDcw"
      },
      "source": [
        "* lambda 함수\n",
        " - 임시로 만드는 함수?"
      ]
    },
    {
      "cell_type": "code",
      "metadata": {
        "ExecuteTime": {
          "end_time": "2018-08-11T04:29:52.564269Z",
          "start_time": "2018-08-11T04:29:52.527251Z"
        },
        "id": "hFSpuon6jDcw"
      },
      "source": [
        "# 그래프 선의 종류\n",
        "linestyles = ['-', '--', ':']\n",
        "\n",
        "# 기댓값 함수\n",
        "# 각 확률분포함수에 대해 기댓값을 구할 수 있게 설정\n",
        "def E(X, g=lambda x: x):\n",
        "    x_set, f = X\n",
        "    return np.sum([g(x_k) * f(x_k) for x_k in x_set])\n",
        "\n",
        "# 분산 함수\n",
        "# 각 확률분포함수에 대해 분산을 구할 수 있게 설정\n",
        "def V(X, g=lambda x: x):\n",
        "    x_set, f = X\n",
        "    mean = E(X, g)\n",
        "    return np.sum([(g(x_k)-mean)**2 * f(x_k) for x_k in x_set])\n",
        "\n",
        "# 기댓값, 분산 return 함수\n",
        "# 위의 E, V 함수가 여기에서 사용된다.\n",
        "def check_prob(X):\n",
        "    x_set, f = X\n",
        "    prob = np.array([f(x_k) for x_k in x_set])\n",
        "    \n",
        "    # assert = try, except같은 느낌이라고 생각하면 된다.\n",
        "    # assert 다음부분을 만족하지 못하면 오른쪽 문구 출력\n",
        "    # 만족할 경우 그냥 pass\n",
        "    assert np.all(prob >= 0), 'minus probability'\n",
        "    \n",
        "    # numpy, 소수점 6째자리까지 반올림\n",
        "    prob_sum = np.round(np.sum(prob), 6)\n",
        "    assert prob_sum == 1, f'sum of probability{prob_sum}'\n",
        "    \n",
        "    # 기댓값, 분산 출력\n",
        "    print(f'expected value {E(X):.4}')   # 소수점 4자리까지\n",
        "    print(f'variance {(V(X)):.4}')\n",
        "\n",
        "\n",
        "# 확률함수와 기댓값을 그리기 위한 plot 함수\n",
        "def plot_prob(X):\n",
        "    x_set, f = X\n",
        "    \n",
        "    # prob는 각 x에 대한 확률을 array로 만듬.\n",
        "    prob = np.array([f(x_k) for x_k in x_set])\n",
        "    \n",
        "    # 크기 설정\n",
        "    fig = plt.figure(figsize=(10, 6))\n",
        "    # 1,1,1 subplot\n",
        "    ax = fig.add_subplot(111)\n",
        "    \n",
        "    \n",
        "    ax.bar(x_set, prob, label='prob')\n",
        "    ax.vlines(E(X), 0, 1, label='mean')\n",
        "    ax.set_xticks(np.append(x_set, E(X)))\n",
        "    ax.set_ylim(0, prob.max()*1.2)\n",
        "    ax.legend()\n",
        "    \n",
        "    plt.show()"
      ],
      "execution_count": 3,
      "outputs": []
    },
    {
      "cell_type": "markdown",
      "metadata": {
        "id": "7w1IzLIfjDcx"
      },
      "source": [
        "## 베르누이 분포"
      ]
    },
    {
      "cell_type": "markdown",
      "metadata": {
        "id": "c8x3dfb8jDcx"
      },
      "source": [
        "* Bernoulli distribution\n",
        " - 확률 변수가 취할 수 있는 값이 0, 1밖에 없는 분포이다.\n",
        " - 1이 나오면 성공, 0이 나오면 실패\n",
        "\n",
        " - 확률변수가 취할 수 있는 값은 2가지, 2가지 확률변수의 확률의 총합 = 1\n",
        " - 1이 나오는 확률을 p라고 하면, \n",
        " - 1이 나오지 않는 확률은 1-p\n",
        "\n",
        "* 확률변수가 취할 수 있는 값이 2가지 밖에 없는 것 = 베르누이 분포"
      ]
    },
    {
      "cell_type": "code",
      "metadata": {
        "ExecuteTime": {
          "end_time": "2018-08-11T04:29:52.569321Z",
          "start_time": "2018-08-11T04:29:52.565434Z"
        },
        "id": "qGtxljc1jDcy"
      },
      "source": [
        "# 베르누이 분포 함수 구현\n",
        "\n",
        "def Bern(p):\n",
        "    x_set = np.array([0, 1])\n",
        "    def f(x):\n",
        "        if x in x_set:\n",
        "            return p ** x * (1-p) ** (1-x)\n",
        "        else:\n",
        "            return 0\n",
        "    return x_set, f"
      ],
      "execution_count": 4,
      "outputs": []
    },
    {
      "cell_type": "code",
      "metadata": {
        "ExecuteTime": {
          "end_time": "2018-08-11T04:29:52.573425Z",
          "start_time": "2018-08-11T04:29:52.570272Z"
        },
        "colab": {
          "base_uri": "https://localhost:8080/"
        },
        "id": "rUWHGYG6jDc0",
        "outputId": "4a384cd8-ab02-43ac-8711-1781da4d1e11"
      },
      "source": [
        "p = 0.3\n",
        "X = Bern(p)\n",
        "X"
      ],
      "execution_count": 5,
      "outputs": [
        {
          "output_type": "execute_result",
          "data": {
            "text/plain": [
              "(array([0, 1]), <function __main__.Bern.<locals>.f>)"
            ]
          },
          "metadata": {
            "tags": []
          },
          "execution_count": 5
        }
      ]
    },
    {
      "cell_type": "code",
      "metadata": {
        "ExecuteTime": {
          "end_time": "2018-08-11T04:29:52.577547Z",
          "start_time": "2018-08-11T04:29:52.574372Z"
        },
        "colab": {
          "base_uri": "https://localhost:8080/"
        },
        "id": "-ikk-6hwjDc1",
        "outputId": "17f51e8a-6897-4f3d-dbeb-dad801c53787"
      },
      "source": [
        "# 기댓값, 분산 구하기\n",
        "\n",
        "check_prob(X)"
      ],
      "execution_count": 6,
      "outputs": [
        {
          "output_type": "stream",
          "text": [
            "expected value 0.3\n",
            "variance 0.21\n"
          ],
          "name": "stdout"
        }
      ]
    },
    {
      "cell_type": "markdown",
      "metadata": {
        "id": "wXE7znyNjDc2"
      },
      "source": [
        "베르누이 분포의 기댓값 = p이고,\n",
        "분산은 p(1-p)로 구할 수 있다.\n",
        "( 원래 기댓값 & 분산 구하는 식을 정리하면 똑같이 나옴 )"
      ]
    },
    {
      "cell_type": "code",
      "metadata": {
        "ExecuteTime": {
          "end_time": "2018-08-11T04:29:52.655382Z",
          "start_time": "2018-08-11T04:29:52.578567Z"
        },
        "colab": {
          "base_uri": "https://localhost:8080/",
          "height": 374
        },
        "id": "aI47hM4NjDc2",
        "outputId": "fa00e073-8e11-4628-d141-41be8a00f8df"
      },
      "source": [
        "# 중앙선은 기댓값을 나타냄 ( 0.3 )\n",
        "plot_prob(X)"
      ],
      "execution_count": 7,
      "outputs": [
        {
          "output_type": "display_data",
          "data": {
            "image/png": "[encoded data removed]",
            "text/plain": [
              "<Figure size 720x432 with 1 Axes>"
            ]
          },
          "metadata": {
            "tags": [],
            "needs_background": "light"
          }
        }
      ]
    },
    {
      "cell_type": "code",
      "metadata": {
        "id": "D6Vd7wAPjDc3",
        "outputId": "98c67164-3fab-4374-d542-0bee423ec500"
      },
      "source": [
        "# p를 1 - 0.3 = 0.7 로 해서 실험 \n",
        "\n",
        "p = 0.7\n",
        "X = Bern(p)"
      ],
      "execution_count": null,
      "outputs": [
        {
          "output_type": "execute_result",
          "data": {
            "text/plain": [
              "(array([0, 1]), <function __main__.Bern.<locals>.f(x)>)"
            ]
          },
          "metadata": {
            "tags": []
          },
          "execution_count": 8
        }
      ]
    },
    {
      "cell_type": "code",
      "metadata": {
        "id": "GD5g3OWtjDc3",
        "outputId": "34cc4f6e-0cf8-4d24-ca59-aded40f0c19e"
      },
      "source": [
        "check_prob(X)"
      ],
      "execution_count": null,
      "outputs": [
        {
          "output_type": "stream",
          "text": [
            "expected value 0.7\n",
            "variance 0.21\n"
          ],
          "name": "stdout"
        }
      ]
    },
    {
      "cell_type": "code",
      "metadata": {
        "id": "eByH48CejDc4",
        "outputId": "36e0d33b-d1c7-440e-967e-22b72e3c76de"
      },
      "source": [
        "plot_prob(X)"
      ],
      "execution_count": null,
      "outputs": [
        {
          "output_type": "display_data",
          "data": {
            "image/png": "[encoded data removed]",
            "text/plain": [
              "<Figure size 720x432 with 1 Axes>"
            ]
          },
          "metadata": {
            "tags": [],
            "needs_background": "light"
          }
        }
      ]
    },
    {
      "cell_type": "markdown",
      "metadata": {
        "id": "Tcuif3JzjDc4"
      },
      "source": [
        "# scipy.stats 내부 함수 베르누이 분포\n",
        " - 베르누이 분포를 따르는 확률변수를 생성하는 bernoulli 함수가 존재\n",
        " - pmf 함수는 0,1에서의 확률을 계산할 수 있다."
      ]
    },
    {
      "cell_type": "code",
      "metadata": {
        "ExecuteTime": {
          "end_time": "2018-08-11T04:29:52.659593Z",
          "start_time": "2018-08-11T04:29:52.656761Z"
        },
        "id": "W4pR8q_ljDc4",
        "outputId": "4d2a6c52-59e3-4463-9675-a161e8b252df"
      },
      "source": [
        "# 입력은 p\n",
        "\n",
        "rv = stats.bernoulli(p)\n",
        "rv"
      ],
      "execution_count": null,
      "outputs": [
        {
          "output_type": "execute_result",
          "data": {
            "text/plain": [
              "<scipy.stats._distn_infrastructure.rv_frozen at 0x9001f0>"
            ]
          },
          "metadata": {
            "tags": []
          },
          "execution_count": 11
        }
      ]
    },
    {
      "cell_type": "code",
      "metadata": {
        "ExecuteTime": {
          "end_time": "2018-08-11T04:29:52.664760Z",
          "start_time": "2018-08-11T04:29:52.660932Z"
        },
        "id": "kNcFXxw8jDc5",
        "outputId": "d1cecea1-b653-4a71-af55-2e962a853bb9"
      },
      "source": [
        "# x=0일 때, x=1일 때 확률 구하기\n",
        "rv.pmf(0), rv.pmf(1)"
      ],
      "execution_count": null,
      "outputs": [
        {
          "output_type": "execute_result",
          "data": {
            "text/plain": [
              "(0.7000000000000001, 0.3)"
            ]
          },
          "metadata": {
            "tags": []
          },
          "execution_count": 12
        }
      ]
    },
    {
      "cell_type": "code",
      "metadata": {
        "ExecuteTime": {
          "end_time": "2018-08-11T04:29:52.670243Z",
          "start_time": "2018-08-11T04:29:52.666156Z"
        },
        "id": "3XkZd25_jDc5",
        "outputId": "8998ac68-66f7-4bd5-d128-68188a1e30a3"
      },
      "source": [
        "# 이렇게 리스트를 넣어서 한꺼번에 구할 수도 있다.\n",
        "rv.pmf([0, 1])"
      ],
      "execution_count": null,
      "outputs": [
        {
          "output_type": "execute_result",
          "data": {
            "text/plain": [
              "array([0.7, 0.3])"
            ]
          },
          "metadata": {
            "tags": []
          },
          "execution_count": 13
        }
      ]
    },
    {
      "cell_type": "code",
      "metadata": {
        "ExecuteTime": {
          "end_time": "2018-08-11T04:29:52.676172Z",
          "start_time": "2018-08-11T04:29:52.671550Z"
        },
        "id": "YDGSX1zyjDc5",
        "outputId": "ffb817e0-43df-450f-ab73-73821e5cbb88"
      },
      "source": [
        "# 누적밀도함수 구하는 함수 cdf\n",
        "# x=0일때는 동일하게 0.3, x=1일때는 1\n",
        "\n",
        "rv.cdf([0, 1])"
      ],
      "execution_count": null,
      "outputs": [
        {
          "output_type": "execute_result",
          "data": {
            "text/plain": [
              "array([0.7, 1. ])"
            ]
          },
          "metadata": {
            "tags": []
          },
          "execution_count": 14
        }
      ]
    },
    {
      "cell_type": "code",
      "metadata": {
        "ExecuteTime": {
          "end_time": "2018-08-11T04:29:52.680896Z",
          "start_time": "2018-08-11T04:29:52.677529Z"
        },
        "id": "_UEfhoDQjDc6",
        "outputId": "d90bf340-9d2b-421c-f073-5675e520785b"
      },
      "source": [
        "# 기댓값 & 분산 그냥 쉽게 구할수 있다.\n",
        "\n",
        "rv.mean(), rv.var()"
      ],
      "execution_count": null,
      "outputs": [
        {
          "output_type": "execute_result",
          "data": {
            "text/plain": [
              "(0.3, 0.21)"
            ]
          },
          "metadata": {
            "tags": []
          },
          "execution_count": 15
        }
      ]
    },
    {
      "cell_type": "markdown",
      "metadata": {
        "id": "VqX1Tl5LjDc7"
      },
      "source": [
        "## 이항분포"
      ]
    },
    {
      "cell_type": "markdown",
      "metadata": {
        "id": "AkOVRyAXjDc7"
      },
      "source": [
        "* 이항분포\n",
        " - 성공 확률 = p인 베르누이 시행을 n번 했을 때의 성공 횟수\n",
        " - 성공 횟수 : 0 ~ n번, 확률변수가 취할 수 있는 값 : 0 ~ n"
      ]
    },
    {
      "cell_type": "markdown",
      "metadata": {
        "id": "rrn6HaA1jDc7"
      },
      "source": [
        "* 이항분포의 파라미터 2가지\n",
        "\n",
        " - 성공 확률 : p\n",
        " - 시행 횟수 : n\n"
      ]
    },
    {
      "cell_type": "markdown",
      "metadata": {
        "id": "Kz_Tb9B5jDc7"
      },
      "source": [
        "* 이항분포의 기댓값 E(X) = np\n",
        "* 이항분포의 분산 V(X) = np(1-p)"
      ]
    },
    {
      "cell_type": "code",
      "metadata": {
        "id": "FLirExkhjDc8",
        "outputId": "77d8309e-88d0-4a7c-a4ff-2fdbfdf62783"
      },
      "source": [
        "np.arange(7+1)"
      ],
      "execution_count": null,
      "outputs": [
        {
          "output_type": "execute_result",
          "data": {
            "text/plain": [
              "array([0, 1, 2, 3, 4, 5, 6, 7])"
            ]
          },
          "metadata": {
            "tags": []
          },
          "execution_count": 11
        }
      ]
    },
    {
      "cell_type": "code",
      "metadata": {
        "ExecuteTime": {
          "end_time": "2018-08-11T04:29:52.688424Z",
          "start_time": "2018-08-11T04:29:52.682189Z"
        },
        "id": "g_I83pYbjDc8"
      },
      "source": [
        "# nCx를 계산하는 함수가 scipy.special에 있는 comb 함수\n",
        "\n",
        "from scipy.special import comb\n",
        "\n",
        "# 시행 횟수가 n이므로, 성공횟수 x는 0~n까지.\n",
        "# arange 함수를 통해 0~n이 들어가는 array 만들기\n",
        "def Bin(n, p):\n",
        "    x_set = np.arange(n+1)\n",
        "    def f(x):\n",
        "        if x in x_set:\n",
        "            return comb(n, x) * p**x * (1-p)**(n-x)\n",
        "        else:\n",
        "            return 0\n",
        "    return x_set, f"
      ],
      "execution_count": null,
      "outputs": []
    },
    {
      "cell_type": "code",
      "metadata": {
        "ExecuteTime": {
          "end_time": "2018-08-11T04:29:52.692070Z",
          "start_time": "2018-08-11T04:29:52.689659Z"
        },
        "id": "yVbMQ-UTjDc8"
      },
      "source": [
        "n = 10\n",
        "p = 0.3\n",
        "X = Bin(n, p)"
      ],
      "execution_count": null,
      "outputs": []
    },
    {
      "cell_type": "code",
      "metadata": {
        "ExecuteTime": {
          "end_time": "2018-08-11T04:29:52.696902Z",
          "start_time": "2018-08-11T04:29:52.693401Z"
        },
        "id": "sp4p-5NJjDc8",
        "outputId": "ad9d07ed-2ade-4f22-fbac-5888c68f4fea"
      },
      "source": [
        "check_prob(X)"
      ],
      "execution_count": null,
      "outputs": [
        {
          "output_type": "stream",
          "text": [
            "expected value 3.0\n",
            "variance 2.1\n"
          ],
          "name": "stdout"
        }
      ]
    },
    {
      "cell_type": "code",
      "metadata": {
        "id": "9IFhccNQjDc9",
        "outputId": "c695faad-ebef-4ee9-8a76-affa5e0f8ee0"
      },
      "source": [
        "# E(X) = np\n",
        "# V(X) = np(1-p)\n",
        "# 이렇게 계산해도 똑같이 나온다.\n",
        "\n",
        "E2 = n*p\n",
        "V2 = n*p*(1-p)\n",
        "E2, V2"
      ],
      "execution_count": null,
      "outputs": [
        {
          "output_type": "execute_result",
          "data": {
            "text/plain": [
              "(3.000, 2.100)"
            ]
          },
          "metadata": {
            "tags": []
          },
          "execution_count": 17
        }
      ]
    },
    {
      "cell_type": "code",
      "metadata": {
        "ExecuteTime": {
          "end_time": "2018-08-11T04:29:52.816191Z",
          "start_time": "2018-08-11T04:29:52.698235Z"
        },
        "id": "AS93ROkXjDc9",
        "outputId": "721ab3c4-8bce-4186-8766-11471a750c70"
      },
      "source": [
        "# 가운데 직선이 기댓값, E\n",
        "# 이항분포는 기댓값이 정상이 되는 산 모양의 분포\n",
        "\n",
        "plot_prob(X)"
      ],
      "execution_count": null,
      "outputs": [
        {
          "output_type": "display_data",
          "data": {
            "image/png": "[encoded data removed]",
            "text/plain": [
              "<Figure size 720x432 with 1 Axes>"
            ]
          },
          "metadata": {
            "tags": [],
            "needs_background": "light"
          }
        }
      ]
    },
    {
      "cell_type": "code",
      "metadata": {
        "id": "zowrRDedjDc9",
        "outputId": "39c349e7-31cb-4dc5-87c5-20c54a32fefb"
      },
      "source": [
        ""
      ],
      "execution_count": null,
      "outputs": [
        {
          "output_type": "execute_result",
          "data": {
            "text/plain": [
              "<zip at 0x118503980>"
            ]
          },
          "metadata": {
            "tags": []
          },
          "execution_count": 6
        }
      ]
    },
    {
      "cell_type": "code",
      "metadata": {
        "ExecuteTime": {
          "end_time": "2018-08-11T04:29:52.923246Z",
          "start_time": "2018-08-11T04:29:52.817283Z"
        },
        "id": "j8wC8j8UjDc-",
        "outputId": "d8fa2699-1a03-4b63-b6b3-a7ee11860625"
      },
      "source": [
        "# scipy.stats에서 이항분포는 binom 함수로 생성 가능\n",
        "\n",
        "fig = plt.figure(figsize=(10, 6))\n",
        "ax = fig.add_subplot(111)\n",
        "\n",
        "# 0~n까지 생성하려고\n",
        "x_set = np.arange(n+1)\n",
        "\n",
        "# 0.3 0.5 0.7 에 따라 다르게 생성\n",
        "# 여기서 linestyles가 쓰인다. 그래프를 다르게 표현하기 위해서\n",
        "for p, ls in zip([0.3, 0.5, 0.7], linestyles):  \n",
        "    rv = stats.binom(n, p)\n",
        "    ax.plot(x_set, rv.pmf(x_set),\n",
        "            label=f'p:{p}', ls=ls, color='gray')\n",
        "    \n",
        "# 0 ~ 10 x좌표 생성    \n",
        "ax.set_xticks(x_set)\n",
        "ax.legend()\n",
        "\n",
        "plt.show()"
      ],
      "execution_count": null,
      "outputs": [
        {
          "output_type": "display_data",
          "data": {
            "image/png": "[encoded data removed]",
            "text/plain": [
              "<Figure size 720x432 with 1 Axes>"
            ]
          },
          "metadata": {
            "tags": [],
            "needs_background": "light"
          }
        }
      ]
    },
    {
      "cell_type": "markdown",
      "metadata": {
        "id": "WNK5CLuqjDc-"
      },
      "source": [
        "p가 커질수록 가운데 정상의 위치가 커진다.\n",
        "p=0.3일 때와 p=0.7일 때와 대칭 관계를 이룬다."
      ]
    },
    {
      "cell_type": "markdown",
      "metadata": {
        "id": "rw6F_rj4jDc-"
      },
      "source": [
        "< 이항분포 정리 >\n",
        "\n",
        " - 파라미터 : n,p\n",
        " - 취할 수 있는 x 값 : 0 ~ n\n",
        " - 확률함수\n",
        " - 기댓값 : np\n",
        " - 분산 : np(1-p)\n",
        " - scipy.stats : binom(n,p)"
      ]
    },
    {
      "cell_type": "markdown",
      "metadata": {
        "id": "acBUPfw_jDc_"
      },
      "source": [
        "## 기하분포"
      ]
    },
    {
      "cell_type": "markdown",
      "metadata": {
        "id": "NFBPohbJjDc_"
      },
      "source": [
        "* 베르누이 시행에서 처음 성공할 때까지 반복한 시행 횟수\n",
        " - 기하분포에서 확률변수가 취할 수 있는 값은 1부터 무한대 ( 무한대라면, 수도 없이 계속해서 실패하는 상황 )\n",
        " - x = {1,2,3....}\n",
        " - 실패할 확률은 1-p이고, 성공할 확률은 p이므로\n",
        " - (1-p)^(x-1) * p가 확률함수가 된다."
      ]
    },
    {
      "cell_type": "markdown",
      "metadata": {
        "id": "xZ4fFB0UjDc_"
      },
      "source": [
        "* 기하분포의 기댓값과 분산\n",
        " - 기댓값(E) = 1/p\n",
        " - 분산(V) = (1-p) / (p^2)"
      ]
    },
    {
      "cell_type": "code",
      "metadata": {
        "ExecuteTime": {
          "end_time": "2018-08-11T04:29:52.928098Z",
          "start_time": "2018-08-11T04:29:52.924337Z"
        },
        "id": "3_AXeYSRjDc_"
      },
      "source": [
        "# 기하분포 함수 만들기\n",
        "\n",
        "def Ge(p):\n",
        "    x_set = np.arange(1, 30)\n",
        "    def f(x):\n",
        "        if x in x_set:\n",
        "            return p * (1-p) ** (x-1)\n",
        "        else:\n",
        "            return 0\n",
        "    return x_set, f"
      ],
      "execution_count": null,
      "outputs": []
    },
    {
      "cell_type": "code",
      "metadata": {
        "ExecuteTime": {
          "end_time": "2018-08-11T04:29:52.932565Z",
          "start_time": "2018-08-11T04:29:52.929113Z"
        },
        "id": "wwOqAg-vjDc_"
      },
      "source": [
        "p = 0.5\n",
        "X = Ge(p)"
      ],
      "execution_count": null,
      "outputs": []
    },
    {
      "cell_type": "code",
      "metadata": {
        "ExecuteTime": {
          "end_time": "2018-08-11T04:29:52.937365Z",
          "start_time": "2018-08-11T04:29:52.933564Z"
        },
        "id": "FAHKXynHjDdA",
        "outputId": "02673557-c5d4-4257-a4a4-12dc32d1c431"
      },
      "source": [
        "check_prob(X)"
      ],
      "execution_count": null,
      "outputs": [
        {
          "output_type": "stream",
          "text": [
            "expected value 2.0\n",
            "variance 2.0\n"
          ],
          "name": "stdout"
        }
      ]
    },
    {
      "cell_type": "code",
      "metadata": {
        "ExecuteTime": {
          "end_time": "2018-08-11T04:29:53.147060Z",
          "start_time": "2018-08-11T04:29:52.938358Z"
        },
        "id": "a2W5hyefjDdA",
        "outputId": "6016caa3-df64-44c8-e7b7-018312b737cf"
      },
      "source": [
        "plot_prob(X)\n",
        "\n",
        "# 아래 그래프를 보면 10 뒤로는 거의 값이 없는 것처럼 보일 수 있다.\n",
        "# 분모가 더 큰 진분수 형태가 무한으로 곱해질수록, 0에 가까워질 수밖에 없다."
      ],
      "execution_count": null,
      "outputs": [
        {
          "output_type": "display_data",
          "data": {
            "image/png": "[encoded data removed]",
            "text/plain": [
              "<Figure size 720x432 with 1 Axes>"
            ]
          },
          "metadata": {
            "tags": [],
            "needs_background": "light"
          }
        }
      ]
    },
    {
      "cell_type": "code",
      "metadata": {
        "ExecuteTime": {
          "end_time": "2018-08-11T04:29:53.283740Z",
          "start_time": "2018-08-11T04:29:53.148140Z"
        },
        "id": "xcM0i0NnjDdA",
        "outputId": "ccfd3719-e213-482a-d6df-ba49999ce943"
      },
      "source": [
        "# p가 0.2, 0.5, 0.8 일때의 기하분포 비교\n",
        "\n",
        "fig = plt.figure(figsize=(10, 6))\n",
        "ax = fig.add_subplot(111)\n",
        "\n",
        "# 원래 x는 무한대로 나올 수 있지만, 14까지라고 그냥 가정\n",
        "x_set = np.arange(1, 15)\n",
        "\n",
        "# p가 0.2, 0.5, 0.8일 때의 기하분포 비교\n",
        "# 기하분포는 stats의 geom 함수를 이용해 만들 수 있다.\n",
        "for p, ls in zip([0.2, 0.5, 0.8], linestyles):\n",
        "    rv = stats.geom(p)\n",
        "    ax.plot(x_set, rv.pmf(x_set),\n",
        "            label=f'p:{p}', ls=ls, color='gray')\n",
        "ax.set_xticks(x_set)\n",
        "ax.legend()\n",
        "\n",
        "plt.show()"
      ],
      "execution_count": null,
      "outputs": [
        {
          "output_type": "display_data",
          "data": {
            "image/png": "[encoded data removed]",
            "text/plain": [
              "<Figure size 720x432 with 1 Axes>"
            ]
          },
          "metadata": {
            "tags": [],
            "needs_background": "light"
          }
        }
      ]
    },
    {
      "cell_type": "markdown",
      "metadata": {
        "id": "XAjCUTFdjDdB"
      },
      "source": [
        "< 기하분포 정리 >\n",
        " - 파라미터 : p\n",
        " - 취할 수 있는 값 : 1~무한대\n",
        " - 확률함수\n",
        " - 기댓값 : 1/p\n",
        " - 분산 : (1-p)/p^2\n",
        " - scipy.stats : geom(p) 함수 사용"
      ]
    },
    {
      "cell_type": "code",
      "metadata": {
        "id": "VmVSoY6xjDdB"
      },
      "source": [
        ""
      ],
      "execution_count": null,
      "outputs": []
    },
    {
      "cell_type": "markdown",
      "metadata": {
        "id": "cpdy9kwrjDdB"
      },
      "source": [
        "## 포아송 분포"
      ]
    },
    {
      "cell_type": "markdown",
      "metadata": {
        "id": "BQJkzuCfjDdC"
      },
      "source": [
        " - 임의의 사건이 단위 시간당 발생하는 건수가 따르는 분포\n",
        " - 발생하는 건수는 0~n 이라고 생각할 수 있다. 0번 발생 ~ n번 발생\n",
        " - 포아송 분포의 파라미터 : λ (발음은 람다) (비율, rate)라고도 한다.\n",
        " "
      ]
    },
    {
      "cell_type": "markdown",
      "metadata": {
        "id": "tLyJFn4wjDdC"
      },
      "source": [
        "< 포아송 분포의 확률함수 >\n",
        " : "
      ]
    },
    {
      "cell_type": "markdown",
      "metadata": {
        "id": "ojY0F2v6jDdD"
      },
      "source": [
        "< 포아송 분포의 기댓값과 분산 >\n",
        " - 기댓값 E(X) = λ\n",
        " - 분산 V(X) = λ      "
      ]
    },
    {
      "cell_type": "code",
      "metadata": {
        "ExecuteTime": {
          "end_time": "2018-08-11T04:29:53.289297Z",
          "start_time": "2018-08-11T04:29:53.284830Z"
        },
        "id": "JpOqR1Z7jDdD"
      },
      "source": [
        "# 팩토리얼은 scipy.special의 factorial 함수를 이용할 것이다.\n",
        "\n",
        "from scipy.special import factorial\n",
        "\n",
        "def Poi(lam):\n",
        "    # 원래 x는 0 이상의 모든 정수가 가능하지만,\n",
        "    # 임의로 19까지로 제한\n",
        "    x_set = np.arange(20)\n",
        "    def f(x):\n",
        "        if x in x_set:\n",
        "            return np.power(lam, x) / factorial(x) * np.exp(-lam)\n",
        "        else:\n",
        "            return 0\n",
        "    return x_set, f"
      ],
      "execution_count": null,
      "outputs": []
    },
    {
      "cell_type": "code",
      "metadata": {
        "ExecuteTime": {
          "end_time": "2018-08-11T04:29:53.295486Z",
          "start_time": "2018-08-11T04:29:53.290292Z"
        },
        "id": "IVZYc5qBjDdD"
      },
      "source": [
        "lam = 3\n",
        "X = Poi(lam)"
      ],
      "execution_count": null,
      "outputs": []
    },
    {
      "cell_type": "code",
      "metadata": {
        "ExecuteTime": {
          "end_time": "2018-08-11T04:29:53.302299Z",
          "start_time": "2018-08-11T04:29:53.296503Z"
        },
        "id": "kr1RprAfjDdD",
        "outputId": "0a67eb06-db57-4b52-c636-9cb5e4556c48"
      },
      "source": [
        "check_prob(X)"
      ],
      "execution_count": null,
      "outputs": [
        {
          "output_type": "stream",
          "text": [
            "expected value 3.0\n",
            "variance 3.0\n"
          ],
          "name": "stdout"
        }
      ]
    },
    {
      "cell_type": "code",
      "metadata": {
        "ExecuteTime": {
          "end_time": "2018-08-11T04:29:53.451672Z",
          "start_time": "2018-08-11T04:29:53.303359Z"
        },
        "id": "-FbPcCJTjDdE",
        "outputId": "2582ec16-8fd8-46c6-c3a5-0dacb578a5f7"
      },
      "source": [
        "# 이항분포와 비슷한 형태로 나온다.\n",
        "# 실제로 이항분포에서 유래된 식이라고 한다.\n",
        "# λ 위치에서 확률이 최고인 것을 확인할 수 있다.\n",
        "plot_prob(X)"
      ],
      "execution_count": null,
      "outputs": [
        {
          "output_type": "display_data",
          "data": {
            "image/png": "[encoded data removed]",
            "text/plain": [
              "<Figure size 720x432 with 1 Axes>"
            ]
          },
          "metadata": {
            "tags": [],
            "needs_background": "light"
          }
        }
      ]
    },
    {
      "cell_type": "code",
      "metadata": {
        "ExecuteTime": {
          "end_time": "2018-08-11T04:29:53.580909Z",
          "start_time": "2018-08-11T04:29:53.453029Z"
        },
        "id": "kit6s8hbjDdE",
        "outputId": "994c0c6a-74f6-43b1-dcd4-7446b2a44e56"
      },
      "source": [
        "# scipy.stats에서 poisson 함수를 이용해 바로 구할 수 있다.\n",
        "\n",
        "fig = plt.figure(figsize=(10, 6))\n",
        "ax = fig.add_subplot(111)\n",
        "\n",
        "x_set = np.arange(20)\n",
        "\n",
        "# λ 값을 3, 5, 8로 증가시켜 한 그래프에 표현\n",
        "for lam, ls in zip([3, 5, 8], linestyles):\n",
        "    rv = stats.poisson(lam)\n",
        "    ax.plot(x_set, rv.pmf(x_set),\n",
        "            label=f'lam:{lam}', ls=ls, color='gray')\n",
        "ax.set_xticks(x_set)\n",
        "ax.legend()\n",
        "\n",
        "\n",
        "# 각 포아송 분포는 람다가 커질 때를 비교하고 있으므로\n",
        "# 람다의 위치에서 각각 정상의 위치에 있음을 알 수 있다.\n",
        "# 하지만 람다가 커지면 정상의 위치에서의 확률은 작아지는 것을 볼 수 있다.\n",
        "\n",
        "plt.show()"
      ],
      "execution_count": null,
      "outputs": [
        {
          "output_type": "display_data",
          "data": {
            "image/png": "[encoded data removed]",
            "text/plain": [
              "<Figure size 720x432 with 1 Axes>"
            ]
          },
          "metadata": {
            "tags": [],
            "needs_background": "light"
          }
        }
      ]
    },
    {
      "cell_type": "code",
      "metadata": {
        "id": "HgABn2-3jDdF"
      },
      "source": [
        ""
      ],
      "execution_count": null,
      "outputs": []
    }
  ]
}